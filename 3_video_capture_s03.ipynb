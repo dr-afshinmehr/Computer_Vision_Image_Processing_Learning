{
 "cells": [
  {
   "cell_type": "markdown",
   "metadata": {},
   "source": [
    "## Import Required Libraries\n"
   ]
  },
  {
   "cell_type": "code",
   "execution_count": 4,
   "metadata": {},
   "outputs": [],
   "source": [
    "import cv2 as cv"
   ]
  },
  {
   "cell_type": "markdown",
   "metadata": {},
   "source": [
    "* Recive and Save Input Capture\n",
    "    * you can input video directory or Index of input device "
   ]
  },
  {
   "cell_type": "code",
   "execution_count": 5,
   "metadata": {},
   "outputs": [],
   "source": [
    "cap = cv.VideoCapture(r\"vid\\trafic_capture.mp4\")"
   ]
  },
  {
   "cell_type": "markdown",
   "metadata": {},
   "source": [
    "* The main block is formed here. Now it's time to use all the preparation steps that have been done so far.\n",
    "    * We need an infinite loop (while True) in order to have consecutive frames and as a result, a video is displayed in the output.\n",
    "    * In the first line, inside the loop, we read the image captured in the object we created and save it in the two variables success and img for later use.\n",
    "    * With the if success condition command, we allow the system to perform the desired operation if there is a capture.\n",
    "    * With the command cv.cvtColor(cap_frame, cv.COLOR_BGR2GRAY), we Convert to Gray Scale.\n",
    "    * The command cv.imshow(\"Gray Scale\", gray) is also used to display the work output.\n",
    "    * And finally, by defining the desired keys to exit the infinite loop, we exit the application."
   ]
  },
  {
   "cell_type": "code",
   "execution_count": 6,
   "metadata": {},
   "outputs": [],
   "source": [
    "try:\n",
    "    while True:\n",
    "        sucsses, cap_frame = cap.read()\n",
    "        gray = cv.cvtColor(cap_frame, cv.COLOR_BGR2GRAY)\n",
    "        cv.imshow(\"Gray Scale\", gray)\n",
    "        if cv.waitKey(1) & 0xFF == ord('q'):\n",
    "            break\n",
    "    cap.release()\n",
    "    cv.destroyAllWindows()\n",
    "except Exception as error:\n",
    "    print(error)"
   ]
  }
 ],
 "metadata": {
  "kernelspec": {
   "display_name": "Python 3",
   "language": "python",
   "name": "python3"
  },
  "language_info": {
   "codemirror_mode": {
    "name": "ipython",
    "version": 3
   },
   "file_extension": ".py",
   "mimetype": "text/x-python",
   "name": "python",
   "nbconvert_exporter": "python",
   "pygments_lexer": "ipython3",
   "version": "3.11.5"
  }
 },
 "nbformat": 4,
 "nbformat_minor": 2
}
