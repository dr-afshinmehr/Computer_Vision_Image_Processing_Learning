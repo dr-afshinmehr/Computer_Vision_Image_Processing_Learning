{
 "cells": [
  {
   "cell_type": "markdown",
   "metadata": {},
   "source": [
    "## Import Required Libraries"
   ]
  },
  {
   "cell_type": "code",
   "execution_count": null,
   "metadata": {},
   "outputs": [],
   "source": [
    "import cv2 as cv\n",
    "from cvzone.FaceDetectionModule import FaceDetector as fd"
   ]
  },
  {
   "cell_type": "markdown",
   "metadata": {},
   "source": []
  },
  {
   "cell_type": "code",
   "execution_count": null,
   "metadata": {},
   "outputs": [],
   "source": [
    "Capture = cv.VideoCapture(0)\n",
    "Capture.set(3, 320)\n",
    "Capture.set(4, 220)"
   ]
  },
  {
   "cell_type": "markdown",
   "metadata": {},
   "source": []
  },
  {
   "cell_type": "code",
   "execution_count": null,
   "metadata": {},
   "outputs": [],
   "source": [
    "while True:\n",
    "    success, img = Capture.read()\n",
    "    if success:\n",
    "        img, box = Detector.findFaces(img, draw = True)\n",
    "        cv.imshow(\"image\", img)\n",
    "\n",
    "        if cv.waitKey(25) & 0xFF == ord(\"q\"):\n",
    "            break\n",
    "cv.destroyAllWindows()"
   ]
  }
 ],
 "metadata": {
  "language_info": {
   "name": "python"
  }
 },
 "nbformat": 4,
 "nbformat_minor": 2
}
