{
 "cells": [
  {
   "cell_type": "markdown",
   "metadata": {},
   "source": [
    "## Import Required Libraries\n",
    "\n",
    "* *The OpenCV library is a well-known library for image processing, which is installed in Windows with the \"pip install opencv_python\" command.*\n",
    "* **Note: Use terminal or command prompt to install Python modules and libraries.**\n",
    "* *The cvzone library is also a pre-written library for detecting faces and other objects. Installing this library is the same as installing other libraries in Python.*\n",
    "* **Note: If you encounter error message: \"The mediapipe module is not defined!\", just install it with the \"pip install mediapipe\" command and add it to the cvzone library.**\n"
   ]
  },
  {
   "cell_type": "code",
   "execution_count": 8,
   "metadata": {},
   "outputs": [],
   "source": [
    "import cv2 as cv\n",
    "from cvzone.FaceDetectionModule import FaceDetector as fd"
   ]
  },
  {
   "cell_type": "markdown",
   "metadata": {},
   "source": [
    "* In this block, we create an object from the input video or input image and save it for future use.\n",
    "* ***Note: This captured image is just a single frame of the input video.***\n",
    "* ***Note: The number assigned to the cv.VideoCapture(0) command indicates the input device or your webcam, based on the number of devices connected to your system, these devices are numbered, and this numbering starts from 0.*** **Therefore, by changing the number 0 to the appropriate number of your device, you can receive the image.**\n",
    "* Finally, we determine the dimensions of the image screen to be displayed."
   ]
  },
  {
   "cell_type": "code",
   "execution_count": 9,
   "metadata": {},
   "outputs": [
    {
     "data": {
      "text/plain": [
       "True"
      ]
     },
     "execution_count": 9,
     "metadata": {},
     "output_type": "execute_result"
    }
   ],
   "source": [
    "Capture = cv.VideoCapture(0)\n",
    "Capture.set(3, 320)\n",
    "Capture.set(4, 220)"
   ]
  },
  {
   "cell_type": "markdown",
   "metadata": {},
   "source": [
    "* In this block, we create an object of the desired detector and apply its settings and save it in the created object.\n",
    "* The task of this detector is to apply the desired settings on the image and recognize the desired objects in the image, where the desired object is the face.\n",
    "* **Note: The argument minDetectionCon = 0.5 determines the minimum accuracy for face detection. For example, if the recognized face matches at least 50% with the characteristics of a face, it will be recognized as a face.**\n",
    "* **Note: This value is between 0.1 and 1 (that is, 10 to 100 percent).**"
   ]
  },
  {
   "cell_type": "code",
   "execution_count": 10,
   "metadata": {},
   "outputs": [],
   "source": [
    "Detector = fd(minDetectionCon = 0.5)"
   ]
  },
  {
   "cell_type": "markdown",
   "metadata": {},
   "source": [
    "* The main block is formed here. Now it's time to use all the preparation steps that have been done so far.\n",
    "* We need an infinite loop (while True) in order to have consecutive frames and as a result, a video is displayed in the output.\n",
    "* In the first line, inside the loop, we read the image captured in the object we created and save it in the two variables success and img for later use.\n",
    "* With the if success condition command, we allow the system to perform the desired operation if there is a capture.\n",
    "* With the command Detector.findFaces(img, draw = True), we find all the faces in the image and draw a square around them.\n",
    "* The command cv.imshow(\"image\", img) is also used to display the work output.\n",
    "* And finally, by defining the desired keys to exit the infinite loop, we exit the application."
   ]
  },
  {
   "cell_type": "code",
   "execution_count": 11,
   "metadata": {},
   "outputs": [],
   "source": [
    "while True:\n",
    "    success, img = Capture.read()\n",
    "    if success:\n",
    "        img, box = Detector.findFaces(img, draw = True)\n",
    "        cv.imshow(\"image\", img)\n",
    "\n",
    "        if cv.waitKey(0) == 27 & 0xFF == ord(\"q\"):\n",
    "            break\n",
    "cv.destroyAllWindows()"
   ]
  }
 ],
 "metadata": {
  "kernelspec": {
   "display_name": "Python 3",
   "language": "python",
   "name": "python3"
  },
  "language_info": {
   "codemirror_mode": {
    "name": "ipython",
    "version": 3
   },
   "file_extension": ".py",
   "mimetype": "text/x-python",
   "name": "python",
   "nbconvert_exporter": "python",
   "pygments_lexer": "ipython3",
   "version": "3.11.5"
  }
 },
 "nbformat": 4,
 "nbformat_minor": 2
}
