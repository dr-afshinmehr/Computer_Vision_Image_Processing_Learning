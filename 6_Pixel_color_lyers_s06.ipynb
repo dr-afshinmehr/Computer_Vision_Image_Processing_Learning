{
 "cells": [
  {
   "cell_type": "markdown",
   "metadata": {},
   "source": [
    "## Import Required Libraries"
   ]
  },
  {
   "cell_type": "code",
   "execution_count": 16,
   "metadata": {},
   "outputs": [],
   "source": [
    "import cv2 as cv"
   ]
  },
  {
   "cell_type": "markdown",
   "metadata": {},
   "source": [
    "* Receiving the image and dividing it into three layers that make up the image, i.e. **blue: 0, green: 1, red: 2**\n",
    "This action can be done using the code line **\"blue, green, red = cv.split(img)\"** by packing method.\n",
    "* **Note:** *When you see the image with the filter of each of the constituent layers, for example green, the brighter areas are a sign of greater saturation of green color and its combinations in those areas.*"
   ]
  },
  {
   "cell_type": "code",
   "execution_count": 17,
   "metadata": {},
   "outputs": [],
   "source": [
    "img = cv.imread(r\"img\\parrot.jpg\")\n",
    "# img_2 = img\n",
    "# blue = img[:, :, 0]\n",
    "# green = img[:, :, 1]\n",
    "# red = img[:, :, 2]\n",
    "# or\n",
    "blue, green, red = cv.split(img)"
   ]
  },
  {
   "cell_type": "markdown",
   "metadata": {},
   "source": [
    "* The **cv.merge((blue, green, red))** code, unlike the split command, combines separate layers together and the result is a single image.\n",
    "* **Note:** *The order of placing the layers is very important for combining them and has a different output. For example, here we have provided all the possible permutations for the composition as commented, and you just need to **uncomment** them and try them.*"
   ]
  },
  {
   "cell_type": "code",
   "execution_count": 18,
   "metadata": {},
   "outputs": [],
   "source": [
    "merged_img = cv.merge((blue, green, red))\n",
    "# or\n",
    "# merged_img = cv.merge((red, green, blue))\n",
    "# or\n",
    "# merged_img = cv.merge((red, blue, green))\n",
    "# or\n",
    "# merged_img = cv.merge((green, red, blue))\n",
    "# or\n",
    "# merged_img = cv.merge((green, blue, red))\n",
    "# or\n",
    "# merged_img = cv.merge((blue, red, green))"
   ]
  },
  {
   "cell_type": "markdown",
   "metadata": {},
   "source": [
    "* Here we can determine the saturation (abundance) of each color in the image, which can receive values between **0 and 255**."
   ]
  },
  {
   "cell_type": "code",
   "execution_count": 19,
   "metadata": {},
   "outputs": [],
   "source": [
    "# img_2[:, :, 0] = 255 # 0-255  Maximum saturation of blue color : = 255\n",
    "# img2[:, :, 1] = 255  # 0-255  Maximum saturation of green color: = 255\n",
    "# img2[:, :, 2] = 255  # 0-255  Maximum saturation of red color: = 255"
   ]
  },
  {
   "cell_type": "markdown",
   "metadata": {},
   "source": [
    "### Show Result"
   ]
  },
  {
   "cell_type": "code",
   "execution_count": 20,
   "metadata": {},
   "outputs": [],
   "source": [
    "cv.imshow(\"Original\", img)\n",
    "cv.imshow(\"Blue\", blue)\n",
    "cv.imshow(\"Green\", green)\n",
    "cv.imshow(\"Red\", red)\n",
    "cv.imshow(\"Merged Image\", merged_img)\n",
    "# cv.imshow(\"Maximum saturation\", img_2)\n",
    "\n",
    "cv.waitKey(0)\n",
    "cv.destroyAllWindows()"
   ]
  }
 ],
 "metadata": {
  "kernelspec": {
   "display_name": "Python 3",
   "language": "python",
   "name": "python3"
  },
  "language_info": {
   "codemirror_mode": {
    "name": "ipython",
    "version": 3
   },
   "file_extension": ".py",
   "mimetype": "text/x-python",
   "name": "python",
   "nbconvert_exporter": "python",
   "pygments_lexer": "ipython3",
   "version": "3.11.5"
  }
 },
 "nbformat": 4,
 "nbformat_minor": 2
}
