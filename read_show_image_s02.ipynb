{
 "cells": [
  {
   "cell_type": "markdown",
   "metadata": {},
   "source": [
    "# Import Librarries\n"
   ]
  },
  {
   "cell_type": "code",
   "execution_count": 1,
   "metadata": {},
   "outputs": [],
   "source": [
    "import cv2 as cv # For Image & Video Processing\n",
    "import numpy as np # For Matrix Calculating\n",
    "import pandas as pd # For Data Analysing"
   ]
  },
  {
   "cell_type": "markdown",
   "metadata": {},
   "source": [
    "# Load Image\n"
   ]
  },
  {
   "cell_type": "code",
   "execution_count": 2,
   "metadata": {},
   "outputs": [],
   "source": [
    "img = cv.imread(r\"img\\PAR.jpg\", 0)  # Read and save image to a variable (0 for Gray Scale & 1 for RGB Color Full)"
   ]
  },
  {
   "cell_type": "markdown",
   "metadata": {},
   "source": [
    "# Show Image"
   ]
  },
  {
   "cell_type": "code",
   "execution_count": 5,
   "metadata": {},
   "outputs": [],
   "source": [
    "cv.imshow(\"My Image\", img) # To show result\n",
    "cv.waitKey(0) # To set Show time(ms) 0 to show limit less\n"
   ]
  },
  {
   "cell_type": "markdown",
   "metadata": {},
   "source": [
    "# Control & Save Result"
   ]
  },
  {
   "cell_type": "code",
   "execution_count": null,
   "metadata": {},
   "outputs": [],
   "source": [
    "# if conditions for more control and Save result\n",
    "if (cv.waitKey(0) == 27): # if user press 'Esc' key then Exit\n",
    "    cv.destroyAllWindows() # To close all windows To avoid occupying extra RAM\n",
    "if (cv.waitKey(0) == ord('s')): # if user press 's' key save to defined direcory and exit\n",
    "    cv.imwrite(r\"img\\result.png\", img) # for Save result to directory\n",
    "    cv.destroyAllWindows()"
   ]
  }
 ],
 "metadata": {
  "kernelspec": {
   "display_name": "Python 3",
   "language": "python",
   "name": "python3"
  },
  "language_info": {
   "codemirror_mode": {
    "name": "ipython",
    "version": 3
   },
   "file_extension": ".py",
   "mimetype": "text/x-python",
   "name": "python",
   "nbconvert_exporter": "python",
   "pygments_lexer": "ipython3",
   "version": "3.11.5"
  }
 },
 "nbformat": 4,
 "nbformat_minor": 2
}
