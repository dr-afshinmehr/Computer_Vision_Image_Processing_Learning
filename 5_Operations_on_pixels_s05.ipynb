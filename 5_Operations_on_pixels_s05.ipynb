{
 "cells": [
  {
   "cell_type": "markdown",
   "metadata": {},
   "source": [
    "## Import Required Libraries"
   ]
  },
  {
   "cell_type": "code",
   "execution_count": 26,
   "metadata": {},
   "outputs": [],
   "source": [
    "import cv2 as cv"
   ]
  },
  {
   "cell_type": "markdown",
   "metadata": {},
   "source": [
    "### *What you will learn in this lesson:*\n",
    "1) Access to image pixels.\n",
    "\n",
    "2) Accessing the dimensions and features of the image using the shape command.\n",
    "\n",
    "3) Value to pixels.\n",
    "\n",
    "4) Moving pixels.\n",
    "\n",
    "* As it was said before, the images are valued and defined as a matrix of pixels, so you can use the coordinates of each pixel to access that pixel and apply the desired operation to it.\n",
    "* The print(img.shape) code displays the dimensions and characteristics of the image.\n",
    "* Using **img[200: 300, 200: 300] = [255, 137, 152]**, we determine that it will replace the coordinates of **\"height = 200 to 300\"** and length 200 to 300 with a color with the values **[255, 137, 152]** .\n",
    "* Using **img[200: 300, 200: 300] = img[300: 400, 300: 400]**, we determine that the coordinates of **\"height = 200 to 300\"** and length **\"200 to 300\"** with the pixels of the same image in coordinates **[300: 400 , 300: 400]** replace it."
   ]
  },
  {
   "cell_type": "code",
   "execution_count": 27,
   "metadata": {},
   "outputs": [],
   "source": [
    "img = cv.imread(r\"img\\PAR.jpg\")\n",
    "# print(img.shape)\n",
    "# h = img.shape[0]\n",
    "# w = img.shape[1]\n",
    "\n",
    "img[200: 300, 200: 300] = [255, 137, 152]\n",
    "# or\n",
    "# img[200: 300, 200: 300] = img[300: 400, 300: 400]"
   ]
  },
  {
   "cell_type": "markdown",
   "metadata": {},
   "source": [
    "## Show Result"
   ]
  },
  {
   "cell_type": "code",
   "execution_count": 28,
   "metadata": {},
   "outputs": [],
   "source": [
    "cv.imshow(\"Result\", img)\n",
    "cv.waitKey(0)\n",
    "cv.destroyAllWindows()"
   ]
  }
 ],
 "metadata": {
  "kernelspec": {
   "display_name": "Python 3",
   "language": "python",
   "name": "python3"
  },
  "language_info": {
   "codemirror_mode": {
    "name": "ipython",
    "version": 3
   },
   "file_extension": ".py",
   "mimetype": "text/x-python",
   "name": "python",
   "nbconvert_exporter": "python",
   "pygments_lexer": "ipython3",
   "version": "3.11.5"
  }
 },
 "nbformat": 4,
 "nbformat_minor": 2
}
