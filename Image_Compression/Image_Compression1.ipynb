{
 "cells": [
  {
   "cell_type": "markdown",
   "metadata": {},
   "source": [
    "### Import Libraries"
   ]
  },
  {
   "cell_type": "code",
   "execution_count": 30,
   "metadata": {},
   "outputs": [],
   "source": [
    "from PIL import Image\n",
    "from tkinter.filedialog import *"
   ]
  },
  {
   "cell_type": "markdown",
   "metadata": {},
   "source": [
    "* Get and save the desired image file path and open and create an object from the desired image.\n",
    "* Note that you can change this block of code according to your needs, for example, give the image path directly to the program.\n",
    "* Determining the length and height of the photo and storing them in the corresponding variables."
   ]
  },
  {
   "cell_type": "code",
   "execution_count": 31,
   "metadata": {},
   "outputs": [],
   "source": [
    "dir_path = askopenfilename()\n",
    "img = Image.open(dir_path)\n",
    "img_h, img_w = img.size"
   ]
  },
  {
   "cell_type": "markdown",
   "metadata": {},
   "source": [
    "## The most important part of the code\n",
    "* In this block, all the process of reducing the volume and compressing the image takes place.\n",
    "* By resizing command and directly giving length and height values, we force the program to follow the size of the original image.\n",
    "* In the next argument, with the command Image.LANCZOS for PIL higher than 2.7 and the command Image.ANTIALIAS for older PILs, we actually remove unnecessary pixels and reduce the size of the image without losing quality."
   ]
  },
  {
   "cell_type": "code",
   "execution_count": 33,
   "metadata": {},
   "outputs": [],
   "source": [
    "img = img.resize((img_h, img_w), Image.LANCZOS)"
   ]
  },
  {
   "cell_type": "markdown",
   "metadata": {},
   "source": [
    "* *In this block, we determine the path to save the compressed image and save it with the desired name and extension.*"
   ]
  },
  {
   "cell_type": "code",
   "execution_count": 34,
   "metadata": {},
   "outputs": [],
   "source": [
    "save_to = asksaveasfilename()\n",
    "img.save(save_to + \"_Compressed.jpg\")"
   ]
  }
 ],
 "metadata": {
  "kernelspec": {
   "display_name": "Python 3",
   "language": "python",
   "name": "python3"
  },
  "language_info": {
   "codemirror_mode": {
    "name": "ipython",
    "version": 3
   },
   "file_extension": ".py",
   "mimetype": "text/x-python",
   "name": "python",
   "nbconvert_exporter": "python",
   "pygments_lexer": "ipython3",
   "version": "3.11.5"
  }
 },
 "nbformat": 4,
 "nbformat_minor": 2
}
