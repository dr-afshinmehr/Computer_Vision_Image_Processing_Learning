{
 "cells": [
  {
   "cell_type": "markdown",
   "metadata": {},
   "source": [
    "# Matrices & Vectors"
   ]
  },
  {
   "cell_type": "markdown",
   "metadata": {},
   "source": [
    "* Most of the calculations in computers are done in some way as vectors.\n",
    "* Computers know how to perform simple mathematical operations automatically.\n",
    "* Vector calculations and matrices are used in image processing and feature extraction."
   ]
  },
  {
   "cell_type": "code",
   "execution_count": 2,
   "metadata": {},
   "outputs": [
    {
     "data": {
      "text/plain": [
       "'\\nNumPy is used for working with arrays AND Matrices.\\n\\nNumPy is short for \"Numerical Python\".\\n'"
      ]
     },
     "execution_count": 2,
     "metadata": {},
     "output_type": "execute_result"
    }
   ],
   "source": [
    "# Import Libraries\n",
    "import numpy as np\n",
    "from matplotlib import pyplot as plt\n",
    "'''\n",
    "NumPy is used for working with arrays AND Matrices.\n",
    "\n",
    "NumPy is short for \"Numerical Python\".\n",
    "'''"
   ]
  },
  {
   "cell_type": "code",
   "execution_count": null,
   "metadata": {},
   "outputs": [],
   "source": [
    "# my_matrix = np.array([[1, 2, 3], [4, 5, 6], [7, 8, 9]])\n",
    "\n",
    "# zeros_matrix = np.zeros((3, 3))      # Matrix filled with zeros\n",
    "\n",
    "# ones_matrix = np.ones((2, 4))        # Matrix filled with ones\n",
    "\n",
    "# identity_matrix = np.eye(3)          # Identity matrix\n",
    "\n",
    "# random_matrix = np.random.rand(2, 3) # Matrix with random values\n"
   ]
  },
  {
   "cell_type": "markdown",
   "metadata": {},
   "source": [
    "* NumPy simplifies basic matrix operations:\n",
    "\n",
    "  * Elementary operations in NumPy"
   ]
  },
  {
   "cell_type": "markdown",
   "metadata": {},
   "source": [
    "### Elementary operations in NumPy"
   ]
  },
  {
   "cell_type": "markdown",
   "metadata": {},
   "source": [
    "## Matrix multiplication with NumPy"
   ]
  },
  {
   "cell_type": "code",
   "execution_count": 16,
   "metadata": {},
   "outputs": [],
   "source": [
    "# matrix_A = np.array([[1, 2], [3, 4]])\n",
    "\n",
    "# matrix_B = np.array([[5, 6], [7, 8]])\n",
    "\n",
    "# Element-wise addition\n",
    "\n",
    "# result_addition = matrix_A + matrix_B\n",
    "\n",
    "# Element-wise multiplication\n",
    "\n",
    "# result_multiplication = matrix_A * matrix_B\n",
    "# or\n",
    "# result_multiplication = matrix_A.dot(matrix_B)\n",
    "# print(result_multiplication)"
   ]
  },
  {
   "cell_type": "markdown",
   "metadata": {},
   "source": [
    "* *Matrix multiplication is a key operation in linear algebra. This operation consists of multiplying the rows of one matrix by the columns of another matrix. NumPy provides efficient tools for matrix multiplication.*"
   ]
  },
  {
   "cell_type": "markdown",
   "metadata": {},
   "source": [
    "### Transpose of Matrix with NumPy\n"
   ]
  },
  {
   "cell_type": "code",
   "execution_count": 12,
   "metadata": {},
   "outputs": [],
   "source": [
    "# matrix_A = np.array([[1, 2], [3, 4]])\n",
    "\n",
    "# # Transpose of matrix_A\n",
    "\n",
    "# transpose_A = matrix_A.T\n",
    "# print(transpose_A)"
   ]
  },
  {
   "cell_type": "markdown",
   "metadata": {},
   "source": [
    "## Determinant of Matrix with NumPy"
   ]
  },
  {
   "cell_type": "code",
   "execution_count": 15,
   "metadata": {},
   "outputs": [],
   "source": [
    "# matrix_A = np.array([[1, 2], [3, 4]])\n",
    "\n",
    "# Inverse of matrix_A\n",
    "\n",
    "# inverse_A = np.linalg.inv(matrix_A)\n",
    "\n",
    "# Determinant of matrix_A\n",
    "\n",
    "# determinant_A = np.linalg.det(matrix_A)\n",
    "# print(determinant_A)"
   ]
  },
  {
   "cell_type": "code",
   "execution_count": null,
   "metadata": {},
   "outputs": [],
   "source": [
    "# arr = np.array([[10, 20, 30, 40, 50], [60, 70, 80, 90, 100]])\n",
    "# print(arr)\n",
    "\n",
    "# plot = plt.plot(arr[0], arr[1])\n",
    "# plt.show(plot)"
   ]
  },
  {
   "cell_type": "code",
   "execution_count": 9,
   "metadata": {},
   "outputs": [],
   "source": [
    "# x = np.array([0, 30, 60, 90, 180])\n",
    "# y = np.sin(x)\n",
    "\n",
    "# plot = plt.plot(x, y)\n",
    "# plt.show(plot)\n"
   ]
  },
  {
   "cell_type": "code",
   "execution_count": 50,
   "metadata": {},
   "outputs": [],
   "source": [
    "# x = np.array([item for item in range(0, 90, 10)])\n",
    "# y =  np.sin(2*x)**2\n",
    "\n",
    "# plot = plt.plot(x, y)\n",
    "# plt.title(\"Sin(2X)^2\")\n",
    "# plt.xlabel(\"x axis\")\n",
    "# plt.ylabel(\"Y Axis\")\n",
    "# plt.show(plot)"
   ]
  },
  {
   "cell_type": "code",
   "execution_count": 11,
   "metadata": {},
   "outputs": [],
   "source": [
    "# x = np.array([item for item in np.arange(-3, 3, 0.1)])\n",
    "# y = (x**2) + (2*x) + 1\n",
    "# y = np.sin(x)\n",
    "\n",
    "# plot = plt.plot(x, y)\n",
    "# plt.title(\"Quadratic Equation\")\n",
    "# plt.xlabel(\"X [-3, 3]\")\n",
    "# plt.ylabel(\"Y = x^2 + 2x + 1\")\n",
    "# plt.show(plot)"
   ]
  }
 ],
 "metadata": {
  "kernelspec": {
   "display_name": "Python 3",
   "language": "python",
   "name": "python3"
  },
  "language_info": {
   "codemirror_mode": {
    "name": "ipython",
    "version": 3
   },
   "file_extension": ".py",
   "mimetype": "text/x-python",
   "name": "python",
   "nbconvert_exporter": "python",
   "pygments_lexer": "ipython3",
   "version": "3.11.5"
  }
 },
 "nbformat": 4,
 "nbformat_minor": 2
}
