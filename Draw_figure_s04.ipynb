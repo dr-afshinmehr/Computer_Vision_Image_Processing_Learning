{
 "cells": [
  {
   "cell_type": "markdown",
   "metadata": {},
   "source": [
    "## Import Required Libraries\n"
   ]
  },
  {
   "cell_type": "code",
   "execution_count": 126,
   "metadata": {},
   "outputs": [],
   "source": [
    "import cv2 as cv\n",
    "import numpy as np"
   ]
  },
  {
   "cell_type": "markdown",
   "metadata": {},
   "source": [
    "This lesson can have many applications such as:\n",
    "1) Draw the shape in the picture.\n",
    "2) Specifying a specific area in the image (drawing a line under the subject or around it).\n",
    "3) Showing the area of a specific part of the image (such as parts of an aerial image).\n",
    "And ...\n",
    "\n",
    "**In this block, we will create a canvas with a black background. Note that instead of this canvas, you can capture a video or an image.**\n",
    "\n",
    "* The command np.zeros((600, 600, 3)) is used to create a black canvas.\n",
    "A tuple is used for this purpose so that it cannot be changed.\n",
    "* It has three parameters, the first two parameters determine the size of the image and as mentioned, it is fixed, the third parameter shows the number of layers of pixels, where 3 means BGR or RGB."
   ]
  },
  {
   "cell_type": "code",
   "execution_count": 127,
   "metadata": {},
   "outputs": [],
   "source": [
    "img = np.zeros((600, 600, 3))"
   ]
  },
  {
   "cell_type": "markdown",
   "metadata": {},
   "source": [
    "* Here, **cv.circle(img, (300, 300), 100, (255, 255, 255), -1)** to draw a circle with the center coordinates of \"300 and 300\" and the radius of \"100\" and the color white, as well as the value of **-1** to fill is a circle.\n",
    "* Here **cv.line(img, (100, 300), (600, 600), (0, 155, 255), 3)** to draw a line with the coordinates of the starting point \"100, 300\" and the end point \"600, 600\" and the color yellow and Also, the thickness value is **\"3\"**.\n",
    "* Here **cv.rectangle(img, (220, 455), (350, 570), (220, 0, 130), 4)** to draw a square or rectangle with start point coordinates \"220, 455\" and end point \"350, 570\" and color Lilac and also the thickness value is **\"4\"**, which can be drawn in a solid shape by setting its value to **\"-1\"**.\n",
    "* To draw an ellipse, we use the command **cv.ellipse(img, (490, 383), (140, 80), 90, 0, 360, (0, 0, 255), -1)**. The ellipse drawn in this line of code starts from coordinates \"490, 383\" and is drawn from the sides with values of \"140, 80\". The third component, **\"90\"**, determines the amount of rotation, the fourth component, **\"0\"**, removes a slice of the ellipse by the specified angle, to see the result of changing this number, set it to **\"45, 90, and 180\"**, the next component is **\"360\"**, the full amount. It determines the ovality and its function is the opposite of the previous component, the last two components are used to determine the color, fullness and thickness as before."
   ]
  },
  {
   "cell_type": "code",
   "execution_count": 128,
   "metadata": {},
   "outputs": [],
   "source": [
    "img = cv.circle(img, (300, 300), 100, (255, 255, 255), -1)\n",
    "img = cv.line(img, (100, 300),(600, 600), (0, 155, 255), 3)\n",
    "img = cv.rectangle(img, (220, 455), (350, 570), (220, 0, 130), 4)\n",
    "img = cv.ellipse(img, (490,383), (140, 80), 90, 0, 360, (0, 0, 255), -1)"
   ]
  },
  {
   "cell_type": "markdown",
   "metadata": {},
   "source": [
    "### Show Result"
   ]
  },
  {
   "cell_type": "code",
   "execution_count": null,
   "metadata": {},
   "outputs": [],
   "source": [
    "cv.imshow(\"Canvas\", img)\n",
    "cv.waitKey(0)"
   ]
  }
 ],
 "metadata": {
  "kernelspec": {
   "display_name": "Python 3",
   "language": "python",
   "name": "python3"
  },
  "language_info": {
   "codemirror_mode": {
    "name": "ipython",
    "version": 3
   },
   "file_extension": ".py",
   "mimetype": "text/x-python",
   "name": "python",
   "nbconvert_exporter": "python",
   "pygments_lexer": "ipython3",
   "version": "3.11.5"
  }
 },
 "nbformat": 4,
 "nbformat_minor": 2
}
