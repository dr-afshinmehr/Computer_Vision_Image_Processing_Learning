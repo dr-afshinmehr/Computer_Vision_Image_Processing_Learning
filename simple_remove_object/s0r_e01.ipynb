{
 "cells": [
  {
   "cell_type": "markdown",
   "metadata": {},
   "source": [
    "## Import Required Libraries"
   ]
  },
  {
   "cell_type": "code",
   "execution_count": 1,
   "metadata": {},
   "outputs": [],
   "source": [
    "import cv2 as cv\n",
    "import numpy as np"
   ]
  },
  {
   "cell_type": "markdown",
   "metadata": {},
   "source": [
    "# Part 1\n",
    "\n",
    "* ### Manual Mask"
   ]
  },
  {
   "cell_type": "code",
   "execution_count": 2,
   "metadata": {},
   "outputs": [],
   "source": [
    "img = cv.imread(r\"img\\birds.jpg\")\n",
    "img_mask = cv.imread(r\"img\\birds_mask.jpg\", 0)\n",
    "shape = img.shape\n"
   ]
  },
  {
   "cell_type": "code",
   "execution_count": 15,
   "metadata": {},
   "outputs": [],
   "source": [
    "_, msk = cv.threshold(img_mask, 240, 255, cv.THRESH_BINARY)\n",
    "result_img = cv.inpaint(img, msk, 4, flags=cv.INPAINT_TELEA)"
   ]
  },
  {
   "cell_type": "markdown",
   "metadata": {},
   "source": [
    "## Show Result"
   ]
  },
  {
   "cell_type": "code",
   "execution_count": 16,
   "metadata": {},
   "outputs": [],
   "source": [
    "cv.imwrite(r\"img\\mask.jpg\", msk)\n",
    "cv.imwrite(r\"img\\Result_inamge.jpg\", result_img)\n",
    "cv.imshow(\"Result\", result_img)\n",
    "cv.waitKey(0)\n",
    "cv.destroyAllWindows()"
   ]
  },
  {
   "cell_type": "markdown",
   "metadata": {},
   "source": [
    "## Part2"
   ]
  },
  {
   "cell_type": "code",
   "execution_count": 3,
   "metadata": {},
   "outputs": [],
   "source": [
    "convas = np.zeros((shape[:2]))\n",
    "img_msk = cv.ellipse(convas, (400, 285), (150, 70), 0, 0, 360, (255, 255, 255), -1)\n",
    "_, msk = cv.threshold(img_mask, 240, 255, cv.THRESH_BINARY)\n",
    "mask_on_img = cv.bitwise_and(img, img, mask=msk)\n",
    "result = cv.inpaint(img, msk, 4, flags=cv.INPAINT_TELEA)"
   ]
  },
  {
   "cell_type": "code",
   "execution_count": 4,
   "metadata": {},
   "outputs": [],
   "source": [
    "cv.imshow(\"Mask on Image\", mask_on_img)\n",
    "cv.imwrite(r\"img\\Mask_on_Image.jpg\", mask_on_img)\n",
    "cv.imshow(\"Result\", result)\n",
    "cv.waitKey(0)\n",
    "cv.destroyAllWindows()"
   ]
  }
 ],
 "metadata": {
  "kernelspec": {
   "display_name": "Python 3",
   "language": "python",
   "name": "python3"
  },
  "language_info": {
   "codemirror_mode": {
    "name": "ipython",
    "version": 3
   },
   "file_extension": ".py",
   "mimetype": "text/x-python",
   "name": "python",
   "nbconvert_exporter": "python",
   "pygments_lexer": "ipython3",
   "version": "3.11.5"
  }
 },
 "nbformat": 4,
 "nbformat_minor": 2
}
